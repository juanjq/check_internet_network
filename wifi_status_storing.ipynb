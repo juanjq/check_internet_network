{
 "cells": [
  {
   "cell_type": "code",
   "execution_count": 1,
   "id": "c6fb0048",
   "metadata": {},
   "outputs": [],
   "source": [
    "import speedtest\n",
    "import datetime\n",
    "import time\n",
    "from IPython.display import display, HTML\n",
    "display(HTML(\"<style>.container { width:100% !important; }</style>\"))\n",
    "\n",
    "# Specify the path to the WiFi data file\n",
    "wifi_data_file = \"wifi_data_gamma_cable.txt\"\n",
    "\n",
    "sleep_time = 30 # in seconds "
   ]
  },
  {
   "cell_type": "code",
   "execution_count": 2,
   "id": "71e4d76c",
   "metadata": {},
   "outputs": [],
   "source": [
    "def get_speed():\n",
    "    st = speedtest.Speedtest()\n",
    "    download_speed = st.download() / 1024 / 1024\n",
    "    return download_speed\n",
    "\n",
    "def log_speed_to_file(speed):\n",
    "    timestamp = datetime.datetime.now().strftime(\"%Y-%m-%d %H:%M:%S\")\n",
    "    log_entry = f\"{timestamp},{speed:.3f}\\n\"\n",
    "    \n",
    "    with open(wifi_data_file, \"a\") as log_file:\n",
    "        log_file.write(log_entry)"
   ]
  },
  {
   "cell_type": "code",
   "execution_count": null,
   "id": "1da9bd45",
   "metadata": {},
   "outputs": [],
   "source": [
    "while True:\n",
    "    \n",
    "    try:\n",
    "        download_speed = get_speed()\n",
    "        log_speed_to_file(download_speed)\n",
    "        time.sleep(sleep_time)\n",
    "    except:\n",
    "        download_speed = 0.0\n",
    "        log_speed_to_file(download_speed)\n",
    "        time.sleep(sleep_time)"
   ]
  }
 ],
 "metadata": {
  "kernelspec": {
   "display_name": "Python 3 (ipykernel)",
   "language": "python",
   "name": "python3"
  },
  "language_info": {
   "codemirror_mode": {
    "name": "ipython",
    "version": 3
   },
   "file_extension": ".py",
   "mimetype": "text/x-python",
   "name": "python",
   "nbconvert_exporter": "python",
   "pygments_lexer": "ipython3",
   "version": "3.9.13"
  }
 },
 "nbformat": 4,
 "nbformat_minor": 5
}
